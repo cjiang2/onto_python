{
 "cells": [
  {
   "cell_type": "markdown",
   "metadata": {},
   "source": [
    "# Owlready2 Crash Notebook\n",
    "Owlready2 is a Python package to construct and manipulate ontology under Python syntax, while Protege is a Java software to construct and manipulate ontologies with various plugins.\n",
    "\n",
    "This is a notebook to manipulate owl files pre-constructed in Protege, and to utilize some APIs from Owlready2 for information retrieval."
   ]
  },
  {
   "cell_type": "code",
   "execution_count": 1,
   "metadata": {},
   "outputs": [],
   "source": [
    "# All necessary imports\n",
    "import os\n",
    "import numpy as np\n",
    "import owlready2 as owl"
   ]
  },
  {
   "cell_type": "markdown",
   "metadata": {},
   "source": [
    "## Part 1: Load a local *.owl file\n",
    "Owlready2 natively supports RDF/XML format ontology file. \n",
    "\n",
    "Refer to \"https://pythonhosted.org/Owlready2/onto.html\" for more details in ontology manipulation with Owlready2."
   ]
  },
  {
   "cell_type": "code",
   "execution_count": 2,
   "metadata": {},
   "outputs": [
    {
     "name": "stdout",
     "output_type": "stream",
     "text": [
      "Loaded owl file at: file:///mnt/c/Users/Zone/Desktop/onto_python/object_onto.owl\n"
     ]
    }
   ],
   "source": [
    "# Here, we load a local ontology file, created earlier in Protege.\n",
    "# A prefix of \"file://\" is needed.\n",
    "onto_path = 'file://' + os.path.abspath('object_onto.owl')\n",
    "onto = owl.get_ontology(onto_path).load()\n",
    "print('Loaded owl file at:', onto_path)"
   ]
  },
  {
   "cell_type": "markdown",
   "metadata": {},
   "source": [
    "## Part 2: Invoke a reasoner\n",
    "Reasoners are useful when checking the consistency of an ontology or deducing logical facts. Owlready2 includes a modified version of the HermiT reasoner.\n",
    "\n",
    "Refer to \"https://pythonhosted.org/Owlready2/reasoning.html\" for more details in reasoning."
   ]
  },
  {
   "cell_type": "code",
   "execution_count": 3,
   "metadata": {},
   "outputs": [
    {
     "name": "stderr",
     "output_type": "stream",
     "text": [
      "* Owlready2 * Running HermiT...\n",
      "    java -Xmx2000M -cp /usr/local/lib/python3.6/dist-packages/owlready2/hermit:/usr/local/lib/python3.6/dist-packages/owlready2/hermit/HermiT.jar org.semanticweb.HermiT.cli.CommandLine -c -O -D -I file:////tmp/tmpnbs04e3u\n",
      "* Owlready2 * HermiT took 0.6381082534790039 seconds\n",
      "* Owlready * Reparenting object_onto.canWithstandTemperature: {owl.ObjectProperty, object_onto.topClassProperty} => {object_onto.topClassProperty}\n",
      "* Owlready * Reparenting object_onto.hasMaterial: {owl.ObjectProperty, object_onto.topClassProperty, owl.FunctionalProperty} => {object_onto.topClassProperty, owl.FunctionalProperty}\n",
      "* Owlready * Reparenting object_onto.isGraspableBy: {owl.ObjectProperty, object_onto.topActionRelation} => {object_onto.topActionRelation}\n",
      "* Owlready * (NB: only changes on entities loaded in Python are shown, other changes are done but not listed)\n"
     ]
    }
   ],
   "source": [
    "# Invoke reasoner\n",
    "# NOTE: New facts will be appended into the current onto\n",
    "owl.sync_reasoner()"
   ]
  },
  {
   "cell_type": "markdown",
   "metadata": {},
   "source": [
    "## Part 3: Some basic APIs exploration\n",
    "Some APIs that are useful to retrieve information in classes, object properties, etc."
   ]
  },
  {
   "cell_type": "code",
   "execution_count": 4,
   "metadata": {
    "scrolled": false
   },
   "outputs": [
    {
     "name": "stdout",
     "output_type": "stream",
     "text": [
      "All classes\n",
      "--------------------\n",
      "object_onto.Operator\n",
      "object_onto.Container\n",
      "object_onto.MaterialPartition\n",
      "object_onto.TemperatureValuePartition\n",
      "object_onto.Bottle\n",
      "object_onto.Cold\n",
      "object_onto.DomainThing\n",
      "object_onto.Partition\n",
      "object_onto.Glass\n",
      "object_onto.Hot\n",
      "object_onto.Mild\n",
      "object_onto.Plastic\n",
      "object_onto.GlassBottle\n",
      "object_onto.Human\n",
      "object_onto.PlasticBottle\n",
      "\n",
      "object_onto.PlasticBottle\n",
      "{'namespace': get_ontology(\"http://www.semanticweb.org/zone/ontologies/2019/11/object_onto#\"), 'storid': 324, '_name': 'PlasticBottle', 'is_a': [object_onto.Bottle, object_onto.isGraspableBy.some(object_onto.Human)], '_equivalent_to': None, '__module__': 'owlready2.entity', '__doc__': None}\n",
      "\n",
      "name(string): PlasticBottle\n",
      "module_type: owlready2.entity\n",
      "equivalent_to: [object_onto.Bottle & object_onto.hasMaterial.some(object_onto.Plastic)]\n",
      "is_a: [object_onto.Bottle, object_onto.isGraspableBy.some(object_onto.Human)]\n"
     ]
    }
   ],
   "source": [
    "# Manipulation over Classes\n",
    "# --------------------\n",
    "# Retrieve all classes inside onto\n",
    "classes = list(onto.classes())\n",
    "print('All classes\\n'+'-'*20)\n",
    "for x in classes: \n",
    "    print(x)\n",
    "print()\n",
    "    \n",
    "# Get a random class in collection\n",
    "# Access dict to retrieve more info\n",
    "cls = classes[-1]\n",
    "print(cls)\n",
    "print(cls.__dict__)\n",
    "print()\n",
    "\n",
    "# Some useful APIs here\n",
    "print('name(string):', cls.name)\n",
    "print('module_type:', cls.__module__)\n",
    "print('equivalent_to:', cls.equivalent_to)\n",
    "print('is_a:', cls.is_a)"
   ]
  },
  {
   "cell_type": "code",
   "execution_count": 5,
   "metadata": {},
   "outputs": [
    {
     "name": "stdout",
     "output_type": "stream",
     "text": [
      "\n",
      "All object properties\n",
      "--------------------\n",
      "object_onto.canGrasp\n",
      "object_onto.topActionRelation\n",
      "object_onto.isGraspableBy\n",
      "object_onto.canWithstandTemperature\n",
      "object_onto.topClassProperty\n",
      "object_onto.hasMaterial\n",
      "\n",
      "object_onto.hasMaterial\n",
      "{'namespace': get_ontology(\"http://www.semanticweb.org/zone/ontologies/2019/11/object_onto#\"), 'is_a': [owl.FunctionalProperty, object_onto.topClassProperty], 'storid': 312, '_name': 'hasMaterial', '_equivalent_to': [], '__module__': 'owlready2.entity', '__doc__': None, '_domain': None, '_range': None, '_property_chain': None, '_inverse_property': None, '_python_name': 'hasMaterial', '_class_property_type': [], '_class_property_some': True, '_class_property_only': False, '_class_property_relation': False, '_inverse_storid': 0}\n",
      "\n",
      "name(string): hasMaterial\n",
      "module_type: owlready2.entity\n",
      "is_a: [owl.FunctionalProperty, object_onto.topClassProperty]\n",
      "\n",
      "class_property_some: True\n",
      "class_property_only: False\n",
      "class_property_relation: False\n"
     ]
    }
   ],
   "source": [
    "# Retrieve all object properties\n",
    "properties = list(onto.object_properties())\n",
    "print('\\nAll object properties\\n'+'-'*20)\n",
    "for x in properties: \n",
    "    print(x)\n",
    "print()\n",
    "    \n",
    "rel = properties[-1]\n",
    "print(rel)\n",
    "print(rel.__dict__)\n",
    "print()\n",
    "\n",
    "# Some useful APIs here\n",
    "print('name(string):', rel.name)\n",
    "print('module_type:', rel.__module__)\n",
    "print('is_a:', rel.is_a)\n",
    "print()\n",
    "\n",
    "\"\"\"\n",
    "The .class_property_type attribute of Properties allows to indicate how to handle class properties:\n",
    "    “some”: handle class properties as existential restrictions (i.e. SOME restrictions and VALUES restrictions).\n",
    "    “only”: handle class properties as universal restrictions (i.e. ONLY restrictions).\n",
    "    “relation”: handle class properties as relations (i.e. simple RDF triple, as in Linked Data).\n",
    "\"\"\"\n",
    "print('class_property_some:', rel._class_property_some)\n",
    "print('class_property_only:', rel._class_property_only)\n",
    "print('class_property_relation:', rel._class_property_relation)"
   ]
  },
  {
   "cell_type": "code",
   "execution_count": 6,
   "metadata": {},
   "outputs": [
    {
     "name": "stdout",
     "output_type": "stream",
     "text": [
      "\n",
      "All disjoints\n",
      "--------------------\n",
      "AllDisjoint([object_onto.Cold, object_onto.Hot, object_onto.Mild])\n",
      "{'ontology': get_ontology(\"http://www.semanticweb.org/zone/ontologies/2019/11/object_onto#\"), 'storid': -23, '_list_bnode': -24, 'entities': [object_onto.Cold, object_onto.Hot, object_onto.Mild]}\n",
      "\n",
      "AllDisjoint([object_onto.Container, object_onto.Operator])\n",
      "{'ontology': get_ontology(\"http://www.semanticweb.org/zone/ontologies/2019/11/object_onto#\"), 'storid': (307, 88, 306), 'entities': [object_onto.Container, object_onto.Operator]}\n",
      "\n",
      "AllDisjoint([object_onto.DomainThing, object_onto.Partition])\n",
      "{'ontology': get_ontology(\"http://www.semanticweb.org/zone/ontologies/2019/11/object_onto#\"), 'storid': (316, 88, 317), 'entities': [object_onto.DomainThing, object_onto.Partition]}\n",
      "\n",
      "AllDisjoint([object_onto.Glass, object_onto.Plastic])\n",
      "{'ontology': get_ontology(\"http://www.semanticweb.org/zone/ontologies/2019/11/object_onto#\"), 'storid': (318, 88, 321), 'entities': [object_onto.Glass, object_onto.Plastic]}\n",
      "\n",
      "AllDisjoint([object_onto.GlassBottle, object_onto.PlasticBottle])\n",
      "{'ontology': get_ontology(\"http://www.semanticweb.org/zone/ontologies/2019/11/object_onto#\"), 'storid': (322, 88, 324), 'entities': [object_onto.GlassBottle, object_onto.PlasticBottle]}\n",
      "\n",
      "AllDisjoint([object_onto.MaterialPartition, object_onto.TemperatureValuePartition])\n",
      "{'ontology': get_ontology(\"http://www.semanticweb.org/zone/ontologies/2019/11/object_onto#\"), 'storid': (310, 88, 311), 'entities': [object_onto.MaterialPartition, object_onto.TemperatureValuePartition]}\n",
      "\n"
     ]
    }
   ],
   "source": [
    "# Retrieve all disjoint sets\n",
    "disjoints = list(onto.disjoints())\n",
    "print('\\nAll disjoints\\n'+'-'*20)\n",
    "for x in disjoints: \n",
    "    # NOTE: Retreive all disjoint individual entity objects, stored in the dict\n",
    "    print(x)\n",
    "    print(x.__dict__)\n",
    "    print()"
   ]
  }
 ],
 "metadata": {
  "kernelspec": {
   "display_name": "Python 3",
   "language": "python",
   "name": "python3"
  },
  "language_info": {
   "codemirror_mode": {
    "name": "ipython",
    "version": 3
   },
   "file_extension": ".py",
   "mimetype": "text/x-python",
   "name": "python",
   "nbconvert_exporter": "python",
   "pygments_lexer": "ipython3",
   "version": "3.6.8"
  }
 },
 "nbformat": 4,
 "nbformat_minor": 2
}
