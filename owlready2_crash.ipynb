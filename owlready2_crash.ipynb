{
 "cells": [
  {
   "cell_type": "markdown",
   "metadata": {},
   "source": [
    "# Owlready2 Crash Notebook\n",
    "Owlready2 is a Python package to construct and manipulate ontology under Python syntax, while Protege is a Java software to construct and manipulate ontologies with various plugins.\n",
    "\n",
    "This is a notebook to manipulate owl files pre-constructed in Protege, and to utilize some APIs from Owlready2 for information retrieval."
   ]
  },
  {
   "cell_type": "code",
   "execution_count": 1,
   "metadata": {},
   "outputs": [],
   "source": [
    "# All necessary imports\n",
    "import os\n",
    "import difflib\n",
    "import numpy as np\n",
    "import networkx as nx\n",
    "import owlready2 as owl"
   ]
  },
  {
   "cell_type": "markdown",
   "metadata": {},
   "source": [
    "## Part 1: Load a local *.owl file\n",
    "Owlready2 natively supports RDF/XML format ontology file. \n",
    "\n",
    "Refer to \"https://pythonhosted.org/Owlready2/onto.html\" for more details in ontology manipulation with Owlready2."
   ]
  },
  {
   "cell_type": "code",
   "execution_count": 2,
   "metadata": {},
   "outputs": [
    {
     "name": "stdout",
     "output_type": "stream",
     "text": [
      "Loaded owl file at: file:///mnt/c/Users/Zone/Desktop/onto_python/object_onto.owl\n"
     ]
    }
   ],
   "source": [
    "# Here, we load a local ontology file, created earlier in Protege.\n",
    "# A prefix of \"file://\" is needed.\n",
    "onto_path = 'file://' + os.path.abspath('object_onto.owl')\n",
    "onto = owl.get_ontology(onto_path).load()\n",
    "print('Loaded owl file at:', onto_path)"
   ]
  },
  {
   "cell_type": "markdown",
   "metadata": {},
   "source": [
    "## Part 2: Invoke a reasoner\n",
    "Reasoners are useful when checking the consistency of an ontology or deducing logical facts. Owlready2 includes a modified version of the HermiT reasoner.\n",
    "\n",
    "Refer to \"https://pythonhosted.org/Owlready2/reasoning.html\" for more details in reasoning."
   ]
  },
  {
   "cell_type": "code",
   "execution_count": 3,
   "metadata": {},
   "outputs": [
    {
     "name": "stderr",
     "output_type": "stream",
     "text": [
      "* Owlready2 * Running HermiT...\n",
      "    java -Xmx2000M -cp /usr/local/lib/python3.6/dist-packages/Owlready2-0.23-py3.6-linux-x86_64.egg/owlready2/hermit:/usr/local/lib/python3.6/dist-packages/Owlready2-0.23-py3.6-linux-x86_64.egg/owlready2/hermit/HermiT.jar org.semanticweb.HermiT.cli.CommandLine -c -O -D -I file:////tmp/tmpvsa6m52_\n",
      "* Owlready2 * HermiT took 0.784369707107544 seconds\n",
      "* Owlready * Reparenting object_onto.hasMaterial: {object_onto.topClassProperty, owl.FunctionalProperty, owl.ObjectProperty} => {object_onto.topClassProperty, owl.FunctionalProperty}\n",
      "* Owlready * Reparenting object_onto.canWithstandTemperature: {object_onto.topClassProperty, owl.ObjectProperty} => {object_onto.topClassProperty}\n",
      "* Owlready * (NB: only changes on entities loaded in Python are shown, other changes are done but not listed)\n"
     ]
    }
   ],
   "source": [
    "# Invoke reasoner\n",
    "# NOTE: New facts will be appended into the current onto\n",
    "owl.sync_reasoner()"
   ]
  },
  {
   "cell_type": "markdown",
   "metadata": {},
   "source": [
    "## Part 3: Some basic APIs exploration\n",
    "Some APIs that are useful to retrieve information in classes, object properties, etc."
   ]
  },
  {
   "cell_type": "markdown",
   "metadata": {},
   "source": [
    "Reference: https://pythonhosted.org/Owlready/class.html"
   ]
  },
  {
   "cell_type": "code",
   "execution_count": 4,
   "metadata": {
    "scrolled": false
   },
   "outputs": [
    {
     "name": "stdout",
     "output_type": "stream",
     "text": [
      "All classes\n",
      "--------------------\n",
      "object_onto.Operator\n",
      "object_onto.Container\n",
      "object_onto.MaterialPartition\n",
      "object_onto.TemperatureValuePartition\n",
      "object_onto.Bottle\n",
      "object_onto.Cold\n",
      "object_onto.DomainThing\n",
      "object_onto.Partition\n",
      "object_onto.Glass\n",
      "object_onto.Hot\n",
      "object_onto.Mild\n",
      "object_onto.Plastic\n",
      "object_onto.GlassBottle\n",
      "object_onto.Human\n",
      "object_onto.PlasticBottle\n",
      "\n",
      "object_onto.PlasticBottle\n",
      "{'namespace': get_ontology(\"http://www.semanticweb.org/zone/ontologies/2019/11/object_onto#\"), 'storid': 324, '_name': 'PlasticBottle', 'is_a': [object_onto.Bottle, object_onto.isGraspableBy.some(object_onto.Human)], '_equivalent_to': None, '__module__': 'owlready2.entity', '__doc__': None}\n",
      "\n",
      "name(string): PlasticBottle\n",
      "module_type: owlready2.entity\n",
      "equivalent_to: [object_onto.Bottle & object_onto.hasMaterial.some(object_onto.Plastic)]\n",
      "is_a: [object_onto.Bottle, object_onto.isGraspableBy.some(object_onto.Human)]\n"
     ]
    }
   ],
   "source": [
    "# Manipulation over Classes\n",
    "# --------------------\n",
    "# Retrieve all classes inside onto\n",
    "classes = list(onto.classes())\n",
    "print('All classes\\n'+'-'*20)\n",
    "for x in classes: \n",
    "    print(x)\n",
    "print()\n",
    "    \n",
    "# Get a random class in collection\n",
    "# Access dict to retrieve more info\n",
    "cls = classes[-1]\n",
    "print(cls)\n",
    "print(cls.__dict__)\n",
    "print()\n",
    "\n",
    "# Some useful APIs here\n",
    "print('name(string):', cls.name)\n",
    "print('module_type:', cls.__module__)\n",
    "print('equivalent_to:', cls.equivalent_to)\n",
    "print('is_a:', cls.is_a)"
   ]
  },
  {
   "cell_type": "code",
   "execution_count": 5,
   "metadata": {},
   "outputs": [
    {
     "name": "stdout",
     "output_type": "stream",
     "text": [
      "\n",
      "All object properties\n",
      "--------------------\n",
      "object_onto.canGrasp\n",
      "object_onto.topActionRelation\n",
      "object_onto.isGraspableBy\n",
      "object_onto.canWithstandTemperature\n",
      "object_onto.topClassProperty\n",
      "object_onto.hasMaterial\n",
      "\n",
      "object_onto.hasMaterial\n",
      "{'namespace': get_ontology(\"http://www.semanticweb.org/zone/ontologies/2019/11/object_onto#\"), 'is_a': [owl.FunctionalProperty, object_onto.topClassProperty], 'storid': 312, '_name': 'hasMaterial', '_equivalent_to': [], '__module__': 'owlready2.entity', '__doc__': None, '_domain': None, '_range': None, '_property_chain': None, '_inverse_property': None, '_python_name': 'hasMaterial', '_class_property_type': [], '_class_property_some': True, '_class_property_only': False, '_class_property_relation': False, '_inverse_storid': 0}\n",
      "\n",
      "name(string): hasMaterial\n",
      "module_type: owlready2.entity\n",
      "is_a: [owl.FunctionalProperty, object_onto.topClassProperty]\n",
      "\n",
      "class_property_some: True\n",
      "class_property_only: False\n",
      "class_property_relation: False\n"
     ]
    }
   ],
   "source": [
    "# Retrieve all object properties\n",
    "properties = list(onto.object_properties())\n",
    "print('\\nAll object properties\\n'+'-'*20)\n",
    "for x in properties: \n",
    "    print(x)\n",
    "print()\n",
    "    \n",
    "rel = properties[-1]\n",
    "print(rel)\n",
    "print(rel.__dict__)\n",
    "print()\n",
    "\n",
    "# Some useful APIs here\n",
    "print('name(string):', rel.name)\n",
    "print('module_type:', rel.__module__)\n",
    "print('is_a:', rel.is_a)\n",
    "print()\n",
    "\n",
    "\"\"\"\n",
    "The .class_property_type attribute of Properties allows to indicate how to handle class properties:\n",
    "    “some”: handle class properties as existential restrictions (i.e. SOME restrictions and VALUES restrictions).\n",
    "    “only”: handle class properties as universal restrictions (i.e. ONLY restrictions).\n",
    "    “relation”: handle class properties as relations (i.e. simple RDF triple, as in Linked Data).\n",
    "\"\"\"\n",
    "print('class_property_some:', rel._class_property_some)\n",
    "print('class_property_only:', rel._class_property_only)\n",
    "print('class_property_relation:', rel._class_property_relation)"
   ]
  },
  {
   "cell_type": "code",
   "execution_count": 6,
   "metadata": {},
   "outputs": [
    {
     "name": "stdout",
     "output_type": "stream",
     "text": [
      "\n",
      "All disjoints\n",
      "--------------------\n",
      "AllDisjoint([object_onto.Cold, object_onto.Hot, object_onto.Mild])\n",
      "{'ontology': get_ontology(\"http://www.semanticweb.org/zone/ontologies/2019/11/object_onto#\"), 'storid': -26, '_list_bnode': -27, 'entities': [object_onto.Cold, object_onto.Hot, object_onto.Mild]}\n",
      "\n",
      "AllDisjoint([object_onto.Container, object_onto.Operator])\n",
      "{'ontology': get_ontology(\"http://www.semanticweb.org/zone/ontologies/2019/11/object_onto#\"), 'storid': (307, 88, 306), 'entities': [object_onto.Container, object_onto.Operator]}\n",
      "\n",
      "AllDisjoint([object_onto.DomainThing, object_onto.Partition])\n",
      "{'ontology': get_ontology(\"http://www.semanticweb.org/zone/ontologies/2019/11/object_onto#\"), 'storid': (316, 88, 317), 'entities': [object_onto.DomainThing, object_onto.Partition]}\n",
      "\n",
      "AllDisjoint([object_onto.Glass, object_onto.Plastic])\n",
      "{'ontology': get_ontology(\"http://www.semanticweb.org/zone/ontologies/2019/11/object_onto#\"), 'storid': (318, 88, 321), 'entities': [object_onto.Glass, object_onto.Plastic]}\n",
      "\n",
      "AllDisjoint([object_onto.GlassBottle, object_onto.PlasticBottle])\n",
      "{'ontology': get_ontology(\"http://www.semanticweb.org/zone/ontologies/2019/11/object_onto#\"), 'storid': (322, 88, 324), 'entities': [object_onto.GlassBottle, object_onto.PlasticBottle]}\n",
      "\n",
      "AllDisjoint([object_onto.MaterialPartition, object_onto.TemperatureValuePartition])\n",
      "{'ontology': get_ontology(\"http://www.semanticweb.org/zone/ontologies/2019/11/object_onto#\"), 'storid': (310, 88, 311), 'entities': [object_onto.MaterialPartition, object_onto.TemperatureValuePartition]}\n",
      "\n"
     ]
    }
   ],
   "source": [
    "# Retrieve all disjoint sets\n",
    "disjoints = list(onto.disjoints())\n",
    "print('\\nAll disjoints\\n'+'-'*20)\n",
    "for x in disjoints: \n",
    "    # NOTE: Retreive all disjoint individual entity objects, stored in the dict\n",
    "    print(x)\n",
    "    print(x.__dict__)\n",
    "    print()"
   ]
  },
  {
   "cell_type": "markdown",
   "metadata": {},
   "source": [
    "## Part 4: Higher-level API exploration\n",
    "Some helper functions to retrieve useful info given an entity to search for. This is a mimic of ontograf plugin feature from Protege."
   ]
  },
  {
   "cell_type": "code",
   "execution_count": 7,
   "metadata": {},
   "outputs": [],
   "source": [
    "type2str_restriction = owl.class_construct._restriction_type_2_label\n",
    "\n",
    "def _process_entity(entity, job_name):\n",
    "    \"\"\"Helper: Append entity for the specified job.\n",
    "    \"\"\"\n",
    "    return entity, job_name\n",
    "\n",
    "def _process_restriction(restriction):\n",
    "    \"\"\"Helper: Append restriction.\n",
    "    \"\"\"\n",
    "    assert restriction.__module__ == 'owlready2.class_construct'\n",
    "    \n",
    "    # Grab object_property --type--> value\n",
    "    object_property, value = restriction.property, restriction.value\n",
    "    restriction_type = type2str_restriction[restriction.type]\n",
    "    \n",
    "    # Things needed\n",
    "    rel = '{},{}'.format(object_property.name, restriction_type)\n",
    "    return value, rel\n",
    "\n",
    "def _process_subclasses(entity, kg):\n",
    "    \"\"\"Helper: Append subclasses.\n",
    "    \"\"\"\n",
    "    # Safely grab all subclasses\n",
    "    try:\n",
    "        subclses = list(entity.subclasses())\n",
    "    except:\n",
    "        subclses = []\n",
    "\n",
    "    for subcls in subclses:\n",
    "        if (entity, subcls, 'has_subclass') not in kg:\n",
    "            kg.append((entity, subcls, 'has_subclass'))\n",
    "        if (subcls, entity, 'subclass_of') not in kg:\n",
    "            kg.append((subcls, entity, 'subclass_of'))\n",
    "\n",
    "    return kg\n",
    "\n",
    "def _process_instances(entity, kg):\n",
    "    \"\"\"Helper: Append individuals.\n",
    "    \"\"\"\n",
    "    # Safely grab all individuals\n",
    "    try:\n",
    "        instances = entity.instances()\n",
    "    except:\n",
    "        instances = []\n",
    "\n",
    "    for instance in instances:\n",
    "        if instance.is_a[0] == entity:\n",
    "            if (entity, instance, 'has_individual') not in kg:\n",
    "                kg.append((entity, instance, 'has_individual'))\n",
    "\n",
    "    return kg\n",
    "\n",
    "def generate_knowledge_graph(entity):\n",
    "    \"\"\"Helper function to grab entity-relation from onto and \n",
    "    return as knowledge graph.\n",
    "    \"\"\"\n",
    "    kg = []\n",
    "\n",
    "    # Part 1: Append subclasses\n",
    "    kg = _process_subclasses(entity, kg)\n",
    "\n",
    "    # Part 2: Collect equivalent_to\n",
    "    equivalent_to_list = entity.INDIRECT_equivalent_to  # NOTE: Weird bug here, have to use INDIRECT\n",
    "    for et in equivalent_to_list:\n",
    "        # equivalent_to AND objects:\n",
    "        if et.__module__ == 'owlready2.class_construct':\n",
    "            for x in et.__dict__['Classes']:\n",
    "                # For class restriction, retrieve relevant infos inside\n",
    "                if x.__module__ == 'owlready2.class_construct':\n",
    "                    end_node, rel = _process_restriction(x)\n",
    "                \n",
    "                else:\n",
    "                    end_node, rel = None, ''\n",
    "\n",
    "                if ((entity, end_node, rel) not in kg) and \\\n",
    "                   (end_node is not None and len(rel) != 0):\n",
    "                    kg.append((entity, end_node, rel))\n",
    "                    \n",
    "    # Part 3: Look into is_a\n",
    "    is_a_list = entity.is_a\n",
    "    for x in is_a_list:\n",
    "        # Entity: is_a indicates subclasses\n",
    "        if x.__module__ == 'owlready2.entity':\n",
    "            end_node, rel = _process_entity(x, 'subclass_of')\n",
    "                \n",
    "        # Restriction\n",
    "        elif x.__module__ == 'owlready2.class_construct':\n",
    "            end_node, rel = _process_restriction(x)\n",
    "\n",
    "        else:\n",
    "            end_node, rel = None, ''\n",
    "                    \n",
    "        if ((entity, end_node, rel) not in kg) and \\\n",
    "           (end_node is not None and len(rel) != 0):\n",
    "            kg.append((entity, end_node, rel))\n",
    "            if rel == 'subclass_of' and (end_node, entity, 'has_subclass') not in kg:\n",
    "                kg.append((end_node, entity, 'has_subclass'))\n",
    "        \n",
    "    # Part 4: Look into instances\n",
    "    kg = _process_instances(entity, kg)\n",
    "    \n",
    "    return kg\n",
    "\n",
    "def filter_kg(kg, onto):\n",
    "    \"\"\"Helper: filter KG from some ill-logical entries.\n",
    "    \"\"\"\n",
    "    filtered_kg = []\n",
    "    # Grab all individuals\n",
    "    individuals = list(onto.individuals())\n",
    "\n",
    "    for graph in kg:\n",
    "        passed = True\n",
    "        # Ill-logical individuals\n",
    "        if graph[0] in individuals:\n",
    "            passed = False\n",
    "        if passed:\n",
    "            filtered_kg.append(graph)\n",
    "    return filtered_kg\n",
    "\n",
    "def keyword_search_onto(keyword, onto):\n",
    "    \"\"\"Search and index key entity from onto given keyword.\n",
    "    \"\"\"\n",
    "    classes = list(onto.classes())\n",
    "    classes_str = [x.name for x in classes]\n",
    "    res = difflib.get_close_matches(keyword, classes_str)[0]\n",
    "    entity = classes[classes_str.index(res)]\n",
    "    return entity\n",
    "\n",
    "def ontograf_simple(orig_entity, onto):\n",
    "    \"\"\"Interface func to search and retrieve infor for a given\n",
    "    entity inside onto.\n",
    "    \"\"\"\n",
    "    # Initial KG search\n",
    "    kg = generate_knowledge_graph(orig_entity)\n",
    "    \n",
    "    # Prep for other key entities given the initial kg\n",
    "    entities = []\n",
    "    for graph in kg:\n",
    "        entities.append(graph[1])\n",
    "\n",
    "    # 1st-level of filters, append more info from children and parent nodes\n",
    "    for entity in entities:\n",
    "        sub_kg = generate_knowledge_graph(entity)\n",
    "        for graph in sub_kg:\n",
    "            if graph[1] == orig_entity:\n",
    "                if (entity, orig_entity, graph[2]) not in kg and entity != orig_entity:\n",
    "                    kg.append((entity, orig_entity, graph[2]))\n",
    "\n",
    "    # 2nd-level of filters, filter some ill-logical nodes\n",
    "    kg = filter_kg(kg, onto)\n",
    "\n",
    "    return kg"
   ]
  },
  {
   "cell_type": "code",
   "execution_count": 8,
   "metadata": {},
   "outputs": [
    {
     "name": "stdout",
     "output_type": "stream",
     "text": [
      "True object_onto.PlasticBottle\n",
      "--------------------\n",
      "[(object_onto.PlasticBottle, object_onto.Plastic, 'hasMaterial,some'), (object_onto.PlasticBottle, object_onto.Bottle, 'subclass_of'), (object_onto.Bottle, object_onto.PlasticBottle, 'has_subclass'), (object_onto.PlasticBottle, object_onto.Human, 'isGraspableBy,some'), (object_onto.PlasticBottle, object_onto.PlasticBottle1, 'has_individual'), (object_onto.PlasticBottle, object_onto.PlasticBottle2, 'has_individual'), (object_onto.Human, object_onto.PlasticBottle, 'canGrasp,some')]\n",
      "\n",
      "--------------------\n",
      "True object_onto.GlassBottle\n",
      "[(object_onto.GlassBottle, object_onto.Glass, 'hasMaterial,some'), (object_onto.GlassBottle, object_onto.Bottle, 'subclass_of'), (object_onto.Bottle, object_onto.GlassBottle, 'has_subclass'), (object_onto.GlassBottle, object_onto.Human, 'isGraspableBy,some'), (object_onto.GlassBottle, object_onto.GlassBottle1, 'has_individual'), (object_onto.Human, object_onto.GlassBottle, 'canGrasp,some')]\n",
      "\n",
      "--------------------\n",
      "True object_onto.Bottle\n",
      "[(object_onto.Bottle, object_onto.GlassBottle, 'has_subclass'), (object_onto.GlassBottle, object_onto.Bottle, 'subclass_of'), (object_onto.Bottle, object_onto.PlasticBottle, 'has_subclass'), (object_onto.PlasticBottle, object_onto.Bottle, 'subclass_of'), (object_onto.Bottle, object_onto.Container, 'subclass_of'), (object_onto.Container, object_onto.Bottle, 'has_subclass')]\n",
      "\n",
      "--------------------\n",
      "True object_onto.Container\n",
      "[(object_onto.Container, object_onto.Bottle, 'has_subclass'), (object_onto.Bottle, object_onto.Container, 'subclass_of'), (object_onto.Container, object_onto.DomainThing, 'subclass_of'), (object_onto.DomainThing, object_onto.Container, 'has_subclass')]\n",
      "\n",
      "--------------------\n",
      "True object_onto.Plastic\n",
      "[(object_onto.Plastic, object_onto.MaterialPartition, 'subclass_of'), (object_onto.MaterialPartition, object_onto.Plastic, 'has_subclass'), (object_onto.Plastic, object_onto.Cold, 'canWithstandTemperature,some'), (object_onto.Plastic, object_onto.Mild, 'canWithstandTemperature,some')]\n"
     ]
    }
   ],
   "source": [
    "entity = keyword_search_onto('plasticbottle', onto)\n",
    "print(entity == onto.PlasticBottle, entity)\n",
    "kg = ontograf_simple(entity, onto)\n",
    "print('-'*20)\n",
    "print(kg)\n",
    "\n",
    "print('\\n'+'-'*20)\n",
    "entity = keyword_search_onto('glassbottle', onto)\n",
    "print(entity == onto.GlassBottle, entity)\n",
    "kg = ontograf_simple(entity, onto)\n",
    "print(kg)\n",
    "\n",
    "print('\\n'+'-'*20)\n",
    "entity = keyword_search_onto('bottle', onto)\n",
    "print(entity == onto.Bottle, entity)\n",
    "kg = ontograf_simple(entity, onto)\n",
    "print(kg)\n",
    "\n",
    "print('\\n'+'-'*20)\n",
    "entity = keyword_search_onto('container', onto)\n",
    "print(entity == onto.Container, entity)\n",
    "kg = ontograf_simple(entity, onto)\n",
    "print(kg)\n",
    "\n",
    "print('\\n'+'-'*20)\n",
    "entity = keyword_search_onto('plastic', onto)\n",
    "print(entity == onto.Plastic, entity)\n",
    "kg = ontograf_simple(entity, onto)\n",
    "print(kg)"
   ]
  }
 ],
 "metadata": {
  "kernelspec": {
   "display_name": "Python 3",
   "language": "python",
   "name": "python3"
  },
  "language_info": {
   "codemirror_mode": {
    "name": "ipython",
    "version": 3
   },
   "file_extension": ".py",
   "mimetype": "text/x-python",
   "name": "python",
   "nbconvert_exporter": "python",
   "pygments_lexer": "ipython3",
   "version": "3.6.8"
  }
 },
 "nbformat": 4,
 "nbformat_minor": 2
}
